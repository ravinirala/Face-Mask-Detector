{
 "cells": [
  {
   "cell_type": "markdown",
   "metadata": {},
   "source": [
    "# Part 2"
   ]
  },
  {
   "cell_type": "markdown",
   "metadata": {},
   "source": [
    "## Testing the model through webcam feed"
   ]
  },
  {
   "cell_type": "code",
   "execution_count": 1,
   "metadata": {},
   "outputs": [],
   "source": [
    "import os\n",
    "import cv2\n",
    "import numpy as np"
   ]
  },
  {
   "cell_type": "code",
   "execution_count": 2,
   "metadata": {},
   "outputs": [
    {
     "name": "stderr",
     "output_type": "stream",
     "text": [
      "Using TensorFlow backend.\n"
     ]
    }
   ],
   "source": [
    "from keras.models import load_model"
   ]
  },
  {
   "cell_type": "code",
   "execution_count": 3,
   "metadata": {},
   "outputs": [],
   "source": [
    "model = load_model('model2.h5')  # loading the model"
   ]
  },
  {
   "cell_type": "code",
   "execution_count": 4,
   "metadata": {},
   "outputs": [],
   "source": [
    "img_size = 80 # providing same image size on which the model was trained"
   ]
  },
  {
   "cell_type": "code",
   "execution_count": 5,
   "metadata": {},
   "outputs": [
    {
     "name": "stdout",
     "output_type": "stream",
     "text": [
      "[[9.9917525e-01 8.2469458e-04]]\n",
      "0\n"
     ]
    }
   ],
   "source": [
    "# checking for a sample image\n",
    "\n",
    "img = cv2.imread('mask5.jpg')\n",
    "resized = cv2.resize(img,(img_size,img_size))\n",
    "normalized = resized/255.0\n",
    "reshaped = np.reshape(normalized,(1,img_size,img_size,3))\n",
    "#reshaped = np.reshape(normalized,(1,img_size,img_size,1))  # (in case of grayscale image)\n",
    "result = model.predict(reshaped)\n",
    "label = np.argmax(result,axis=1)[0]\n",
    "\n",
    "print(result)\n",
    "label = result[0][1] >0.5\n",
    "print(int(label))"
   ]
  },
  {
   "cell_type": "code",
   "execution_count": 6,
   "metadata": {},
   "outputs": [],
   "source": [
    "labels_dict={0:'MASK', 1:'NO MASK'}\n",
    "color_dict={0:(0,255,0),1:(0,0,255)}  # green for with mask, red for without mask\n",
    "\n",
    "face_cascade = cv2.CascadeClassifier('haarcascade_frontalface_default.xml')  # detecting faces\n",
    "source=cv2.VideoCapture(0)"
   ]
  },
  {
   "cell_type": "raw",
   "metadata": {},
   "source": [
    "# in case of using external webcam through wifi network\n",
    "\n",
    "address = \"https://192.168.43.1:8080/video\"\n",
    "source.open(address)"
   ]
  },
  {
   "cell_type": "markdown",
   "metadata": {},
   "source": [
    "### Detecting faces as with or without mask"
   ]
  },
  {
   "cell_type": "code",
   "execution_count": 7,
   "metadata": {},
   "outputs": [],
   "source": [
    "while(True):\n",
    "\n",
    "    ret, img = source.read()\n",
    "    \n",
    "    faces = face_cascade.detectMultiScale(img, 1.3, 5) \n",
    "\n",
    "    for x,y,w,h in faces:\n",
    "\n",
    "        face_img = img[y:y+w,x:x+w]  #cropped face image\n",
    "        \n",
    "        resized = cv2.resize(face_img, (img_size, img_size))  #resizing image\n",
    "        \n",
    "        #resized = cv2.cvtColor(resized,cv2.COLOR_BGR2GRAY)  #converting image in gray scale\n",
    "        \n",
    "        normalized = resized/255.0  #normalizing between 0 and 1\n",
    "        \n",
    "        reshaped = np.reshape(normalized, (1,img_size,img_size,3))  #converting in 4d array\n",
    "        \n",
    "        result=model.predict(reshaped)\n",
    "\n",
    "        label = result[0][1] >0.5\n",
    "        label = int(label)\n",
    "      \n",
    "        cv2.rectangle(img,(x,y),(x+w,y+h),color_dict[label],2)\n",
    "        cv2.rectangle(img,(x,y-40),(x+w,y),color_dict[label],-1)\n",
    "        cv2.putText(img, labels_dict[label] + str(round(result[0][label]*100,2)) + '%', (x, y-10),cv2.FONT_HERSHEY_SIMPLEX,0.8,(0,0,0),2)\n",
    "        \n",
    "        \n",
    "    cv2.imshow('LIVE Video Feed',img)\n",
    "    key=cv2.waitKey(1)\n",
    "    \n",
    "    if(key==27):  # press esc key to stop\n",
    "        break\n",
    "        \n",
    "cv2.destroyAllWindows()\n",
    "source.release()"
   ]
  },
  {
   "cell_type": "code",
   "execution_count": null,
   "metadata": {},
   "outputs": [],
   "source": []
  }
 ],
 "metadata": {
  "kernelspec": {
   "display_name": "Python 3",
   "language": "python",
   "name": "python3"
  },
  "language_info": {
   "codemirror_mode": {
    "name": "ipython",
    "version": 3
   },
   "file_extension": ".py",
   "mimetype": "text/x-python",
   "name": "python",
   "nbconvert_exporter": "python",
   "pygments_lexer": "ipython3",
   "version": "3.7.9"
  }
 },
 "nbformat": 4,
 "nbformat_minor": 4
}
